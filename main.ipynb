{
 "cells": [
  {
   "cell_type": "markdown",
   "id": "3666476f-2d9d-4526-8123-74b4f93e89ea",
   "metadata": {},
   "source": [
    "## 1. Split train and test data"
   ]
  },
  {
   "cell_type": "code",
   "execution_count": null,
   "id": "3dd69a8f-94c1-4b79-bda9-79a859dc2058",
   "metadata": {
    "tags": []
   },
   "outputs": [],
   "source": [
    "import pandas as pd\n",
    "df = pd.read_csv(\"data/hate_speech_df.csv\")"
   ]
  },
  {
   "cell_type": "markdown",
   "id": "c7eab67b-d0dc-463a-bddf-8e6311f31fd6",
   "metadata": {
    "tags": []
   },
   "source": [
    "##### 1.1 Selecting data with class label equals 1 or 2"
   ]
  },
  {
   "cell_type": "code",
   "execution_count": null,
   "id": "aee0a9f1-eeb7-4d6a-9aa5-8e5762083577",
   "metadata": {
    "tags": []
   },
   "outputs": [],
   "source": [
    "# class = class label for majority of CF users. 0 - hate speech 1 - offensive language 2 - neither\n",
    "\n",
    "df = df[df['class'].isin([1, 2])]"
   ]
  },
  {
   "cell_type": "markdown",
   "id": "304c7ec8-60c3-4521-a305-23ce17056744",
   "metadata": {},
   "source": [
    "##### 1.2 Shuffle the df"
   ]
  },
  {
   "cell_type": "code",
   "execution_count": null,
   "id": "cebe3e4b-c03c-4630-8986-2d122dfaf9ab",
   "metadata": {
    "tags": []
   },
   "outputs": [],
   "source": [
    "# prompt: shuffle the df\n",
    "\n",
    "df = df.sample(frac=1).reset_index(drop=True)"
   ]
  },
  {
   "cell_type": "markdown",
   "id": "6ab59220-6303-44f3-8814-0c994633674a",
   "metadata": {},
   "source": [
    "##### 1.3 make the last 1000 rows as test data"
   ]
  },
  {
   "cell_type": "code",
   "execution_count": null,
   "id": "2f2436d2-0334-4b45-87aa-142a0e721cd9",
   "metadata": {
    "tags": []
   },
   "outputs": [],
   "source": [
    "df_test = df.tail(1000)\n",
    "df_test = df_test[['tweet', 'class']]\n",
    "df_train = df.iloc[:-1000]\n",
    "df_train = df_train[['tweet', 'class']]"
   ]
  },
  {
   "cell_type": "code",
   "execution_count": null,
   "id": "3dcdd30e-68c4-458a-8947-60df101ae7af",
   "metadata": {
    "tags": []
   },
   "outputs": [],
   "source": [
    "# df_test[\"no_few_shot\"] = \"\"\n",
    "# df_test[\"1k\"] =\"\"\n",
    "# df_test[\"2k\"] =\"\"\n",
    "# df_test[\"4k\"] =\"\"\n",
    "# df_test[\"16k\"] =\"\"\n",
    "# df_test[\"curated_1k\"] =\"\"\n",
    "# df_test[\"curated_2k\"] =\"\""
   ]
  },
  {
   "cell_type": "markdown",
   "id": "0e404b31-44b7-4136-9358-284767eb9167",
   "metadata": {
    "tags": []
   },
   "source": [
    "## 2. Loading the Mistral-7B-Instruct Model"
   ]
  },
  {
   "cell_type": "markdown",
   "id": "5e93d920-bca6-4af3-a51c-114a62cb6455",
   "metadata": {},
   "source": [
    "##### 2.1 install dependecies"
   ]
  },
  {
   "cell_type": "code",
   "execution_count": 14,
   "id": "4fd4f0a9-d71c-40c3-abb9-17d4a439a625",
   "metadata": {
    "tags": []
   },
   "outputs": [],
   "source": [
    "# !pip install ctransformers[cuda]\n",
    "# !pip install --upgrade git+https://github.com/huggingface/transformers"
   ]
  },
  {
   "cell_type": "markdown",
   "id": "5fd83810-c31a-4047-8eb8-79125414edb5",
   "metadata": {},
   "source": [
    "##### 2.2 Loading LLM"
   ]
  },
  {
   "cell_type": "code",
   "execution_count": null,
   "id": "38916f4f-58a0-49c3-8ac9-9af09127607b",
   "metadata": {
    "tags": []
   },
   "outputs": [],
   "source": [
    "from ctransformers import AutoModelForCausalLM, AutoConfig\n",
    "\n",
    "config = AutoConfig.from_pretrained(\"TheBloke/Mistral-7B-Instruct-v0.1-GGUF\")\n",
    "config.config.context_length = 2048\n",
    "\n",
    "# Set gpu_layers to the number of layers to offload to GPU. Set to 0 if no GPU acceleration is available on your system.\n",
    "model = AutoModelForCausalLM.from_pretrained(\n",
    "    \"TheBloke/Mistral-7B-Instruct-v0.1-GGUF\",\n",
    "    model_file=\"mistral-7b-instruct-v0.1.Q4_K_M.gguf\",\n",
    "    model_type=\"mistral\",\n",
    "    gpu_layers=65,\n",
    "    hf=True,\n",
    "    config=config\n",
    ")"
   ]
  },
  {
   "cell_type": "code",
   "execution_count": null,
   "id": "46aa8167-7ed9-4eca-a6ef-44129e44b136",
   "metadata": {
    "tags": []
   },
   "outputs": [],
   "source": [
    "from transformers import AutoTokenizer, pipeline\n",
    "\n",
    "# Tokenizer\n",
    "tokenizer = AutoTokenizer.from_pretrained(\"mistralai/Mistral-7B-Instruct-v0.1\")\n",
    "\n",
    "# Pipeline\n",
    "generator = pipeline(\n",
    "    model=model, tokenizer=tokenizer,\n",
    "    task='text-generation',\n",
    "    max_new_tokens=1,\n",
    "    repetition_penalty=1.0\n",
    ")"
   ]
  },
  {
   "cell_type": "markdown",
   "id": "f500615c-7185-43e6-a76e-d08b96c90c74",
   "metadata": {},
   "source": [
    "## 3. Prompt Generation Templates"
   ]
  },
  {
   "cell_type": "markdown",
   "id": "3c911fda-0019-4949-88ee-c93e6a6916b3",
   "metadata": {},
   "source": [
    "##### 3.1 generate prompt with examples"
   ]
  },
  {
   "cell_type": "code",
   "execution_count": null,
   "id": "c267363d-6922-4330-af73-77e3badbaeca",
   "metadata": {
    "tags": []
   },
   "outputs": [],
   "source": [
    "def generate_prompt(few_shot_example, tweet):\n",
    "    system_prompt = f\"\"\"\n",
    "    1.Purpose:\n",
    "      I am a PhD student in computer science researching tweet classification for offensiveness.\n",
    "      where class equals 1 indicate offensive tweet, class equals 2 indicate normal tweet.\n",
    "      \n",
    "    2.Learn From Examples:\n",
    "        {few_shot_example}\n",
    "    \n",
    "    3.Do Not Output:\n",
    "        '' or any explanation.\n",
    "        \n",
    "    4.Output Format:\n",
    "      1 or 2 only, do not output anything else.\n",
    "    \"\"\"\n",
    "    \n",
    "    user_query = f\"\"\"\n",
    "    tweet: {tweet}\n",
    "    class:\n",
    "    \"\"\"\n",
    "    return system_prompt + \"\\n\" + user_query"
   ]
  },
  {
   "cell_type": "markdown",
   "id": "7b88dcd2-a153-40fc-ab25-475083d1c663",
   "metadata": {
    "tags": []
   },
   "source": [
    "##### 3.1.1 build examples for prompt with examples"
   ]
  },
  {
   "cell_type": "code",
   "execution_count": null,
   "id": "3ad0c3b7-a712-4b5d-99c0-38bb5ad3312c",
   "metadata": {},
   "outputs": [],
   "source": [
    "def build_examples(prompt, df, num):\n",
    "    for index, row in df.head(num).iterrows():\n",
    "        prompt += \"tweet: \" + row['tweet'] + \"\\n\"\n",
    "        prompt += \"class: \" + str(row['class']) + \"\\n\"\n",
    "    return prompt"
   ]
  },
  {
   "cell_type": "markdown",
   "id": "d038fd65-5c9c-47e5-8350-6b8a01b9787e",
   "metadata": {
    "tags": []
   },
   "source": [
    "##### 3.2 generate prompt without example"
   ]
  },
  {
   "cell_type": "code",
   "execution_count": null,
   "id": "f828cccd-f64e-409b-bf64-924ef10c22f1",
   "metadata": {
    "tags": []
   },
   "outputs": [],
   "source": [
    "def generate_prompt_no_example(tweet):\n",
    "    system_prompt = \"\"\"\n",
    "    1.Purpose:\n",
    "      I am a PhD student in computer science researching tweet classification for offensiveness.\n",
    "      where class equals 1 indicate offensive tweet, class equals 2 indicate normal tweet.\n",
    "    \n",
    "    2.Do Not Output:\n",
    "        '' or any explanation.\n",
    "        \n",
    "    3.Output Format:\n",
    "      1 or 2 only, do not output anything else.\n",
    "    \"\"\"\n",
    "    \n",
    "    user_query = f\"\"\"\n",
    "    tweet: {tweet}\n",
    "    class:\n",
    "    \"\"\"\n",
    "    return system_prompt + \"\\n\" + user_query"
   ]
  },
  {
   "cell_type": "markdown",
   "id": "eefae363-c0e5-4a0a-b933-adadef759955",
   "metadata": {
    "tags": []
   },
   "source": [
    "##### 3.2 generate prompt with curated balanced number of positive and negative examples"
   ]
  },
  {
   "cell_type": "code",
   "execution_count": null,
   "id": "2c68a14d-d726-4a82-a99f-0c0bbec9081b",
   "metadata": {
    "tags": []
   },
   "outputs": [],
   "source": [
    "def generate_prompt_curated_example(tweet):\n",
    "    system_prompt = \"\"\"\n",
    "    1.Purpose:\n",
    "      I am a PhD student in computer science researching tweet classification for offensiveness.\n",
    "      where class equals 1 indicate offensive tweet, class equals 2 indicate normal tweet.\n",
    "      \n",
    "    2.Learn From Examples:\n",
    "        tweet: Josh you're a hoe &#128514;&#128514;&#128514;&#128557;&#128557;&#128557;\n",
    "        class: 1\n",
    "        \n",
    "        tweet: Bust a nicca head,smack a ho,shoot the club up! &#128514; &#128266;&#128266;&#128131;&#128131;&#128131;\n",
    "        class: 1\n",
    "        \n",
    "        tweet: &#8220;@DJ_D_RAC: Fuck driving stick, it's gay as fuck&#8221; shit pussies say\n",
    "        class: 1\n",
    "        \n",
    "        tweet: RT @AZEALIABANKS: Ladies its a full moon. Which means pussy power is in full effect.. yall better get some dick tonnnnniiiiiiggggghhht!!!\n",
    "        class: 1\n",
    "        \n",
    "        tweet: @InFaMouS_StAcKz hell no cause Brad still walked away like \" yeah i fucked that niggas bitch \" &#128514;\n",
    "        class: 1\n",
    "        \n",
    "        tweet: RT @Anastacia_Cole: I like being Asian and all but it's a struggle having squinty eyes in every picture\n",
    "        class: 2\n",
    "        \n",
    "        tweet: Perhaps Ezra Miller is the first crack toward changing that, regardless of whether he identifies as queer over gay.\n",
    "        class: 2\n",
    "        \n",
    "        tweet: @TheLittleFella_ @OLE_VertyBstard @thereal_EMandM @Justinrogo01 boooooooo that was trash\n",
    "        class: 2\n",
    "        \n",
    "        tweet: RT @morningmoneyben: This image of Peshmerga giving the heave-ho to an ISIS flag really brightened my Friday. Kick their sorry butts!! http&#8230;\n",
    "        class: 2\n",
    "        \n",
    "        tweet: If the Yankees can't beat the Red Sox, they don't even deserve to be in the playoffs #yankees #redsox #mlb\n",
    "        class: 2\n",
    "        \n",
    "        tweet: This bitch weave game serious https://t.co/DRknioe6vh\n",
    "        class: 1\n",
    "        \n",
    "        tweet: Driving the fucktardmobile - tranny slips and all. &#128530; http://t.co/8e3kXEgMjo\n",
    "        class: 1\n",
    "        \n",
    "        tweet: RT @jaaayLENo: Dese hoes aint loyal @ Wal-Mart #TeamIgnant #hoodcomedy #flytv #LOLATL &#128514;&#128514;&#128514;&#128514; bruh https://t.co/3nKvBpR9qr\n",
    "        class: 1\n",
    "        \n",
    "        tweet: Mint Oreos &gt;&gt;&gt;\n",
    "        class: 2\n",
    "        \n",
    "        tweet: They have to. That division is trash @NoMeek_JustMilz: Saints gon win the NFC South...watch\n",
    "        class: 2\n",
    "        \n",
    "        tweet: WH: Obama won&#8217;t name Holder&#8217;s replacement until you rubes have already cast your midterm ballots - Hot Air http://t.co/Yf1o8h99Uz\n",
    "        class: 2\n",
    "        \n",
    "        tweet: so. mad... We live in a world where whitey can go to jail for a word other folks wear right on their hats &amp; tshirts. If I wore that shirt...\n",
    "        class: 2\n",
    "        \n",
    "        tweet: @baaaabyshaaaay_ My niggah!!\n",
    "        class: 1\n",
    "        \n",
    "        tweet: @StudlyDubly Eat my pussy!\n",
    "        class: 1\n",
    "        \n",
    "        tweet: RT @ShelleT1986: Great start the morning! My daughter danced herself into the coffee table and gave herself a nice shiner... Yea she's a wh&#8230;\n",
    "        class: 2\n",
    "        \n",
    "    \n",
    "    3.Do Not Output:\n",
    "        '' or any explanation.\n",
    "        \n",
    "    4.Output Format:\n",
    "      1 or 2 only, do not output anything else.\n",
    "    \"\"\"\n",
    "    \n",
    "    user_query = f\"\"\"\n",
    "    tweet: {tweet}\n",
    "    class:\n",
    "    \"\"\"\n",
    "    return system_prompt + \"\\n\" + user_query"
   ]
  },
  {
   "cell_type": "markdown",
   "id": "175b1d7c-3a01-4497-abeb-4a75d356761e",
   "metadata": {
    "tags": []
   },
   "source": [
    "## 4. Classification"
   ]
  },
  {
   "cell_type": "markdown",
   "id": "00effa14-c0c8-41b8-9a56-3d5760913ad8",
   "metadata": {
    "tags": []
   },
   "source": [
    "##### 4.1 single tweet classification"
   ]
  },
  {
   "cell_type": "code",
   "execution_count": null,
   "id": "65d01e8c-638a-4840-a83b-ca2b412a741a",
   "metadata": {},
   "outputs": [],
   "source": [
    "def classify_example_tweet(df_train, tweet, example_num):\n",
    "    few_shot_example = build_examples(prompt='', df=df_train, num=example_num)\n",
    "    example_prompt = generate_prompt(few_shot_example, f\"\"\"\n",
    "                    {str(tweet)}\n",
    "                    \"\"\")\n",
    "    response = generator(example_prompt)\n",
    "    output = response[0][\"generated_text\"]\n",
    "    return output"
   ]
  },
  {
   "cell_type": "markdown",
   "id": "4849744b-b522-40b7-ba4d-bc0ec52dd5ab",
   "metadata": {
    "tags": []
   },
   "source": [
    "##### 4.2 multiple tweets classfication"
   ]
  },
  {
   "cell_type": "code",
   "execution_count": null,
   "id": "53e5c307-2917-451c-b656-ccd340365d74",
   "metadata": {
    "tags": []
   },
   "outputs": [],
   "source": [
    "def classify_multi_tweet(start_index, df, storage_path, col_name, example_num, with_example, with_curated, rerun_list):\n",
    "    \n",
    "    few_shot_example = build_examples(prompt='', df=df_train, num=example_num)\n",
    "    for i in range(start_index, len(df), 50):\n",
    "        print(f\"Processing tweets from {i} to {i+49}\")\n",
    "        for j, tweet in enumerate(df['tweet'][i:i+50]):\n",
    "            try:\n",
    "                # Process the tweet using the Perplexity API\n",
    "                if with_example == True:\n",
    "                    example_prompt = generate_prompt(few_shot_example, f\"\"\"\n",
    "                    {str(tweet)}\n",
    "                    \"\"\")\n",
    "                    response = generator(example_prompt)\n",
    "                    output = response[0][\"generated_text\"].split(\"class:\")[-1].strip()\n",
    "                    df.loc[df.index[i + j], col_name] = int(output)\n",
    "                elif with_curated == True:\n",
    "                    example_prompt = generate_prompt_curated_example(f\"\"\"\n",
    "                    {tweet}\n",
    "                    \"\"\")\n",
    "                    response = generator(example_prompt)\n",
    "                    output = response[0][\"generated_text\"].split(\"class:\")[-1].strip()\n",
    "                    df.loc[df.index[i + j], col_name] = int(output)\n",
    "                else:\n",
    "                    example_prompt = generate_prompt_no_example(f\"\"\"\n",
    "                    {tweet}\n",
    "                    \"\"\")\n",
    "                    response = generator(example_prompt)\n",
    "                    output = response[0][\"generated_text\"].split(\"class:\")[-1].strip()\n",
    "                    df.loc[df.index[i + j], col_name] = int(output)\n",
    "                # print(extracted_text)\n",
    "            except Exception as e:\n",
    "                print(f\"Error processing tweet {i+j}: {e}\")\n",
    "                rerun_list.append(int(i+j))\n",
    "        df.to_csv(storage_path, index=False)\n",
    "        print(\"saved\")\n",
    "\n",
    "    df.to_csv(storage_path, index=False)"
   ]
  },
  {
   "cell_type": "markdown",
   "id": "ed0a8474-0acb-4321-81b7-3ea5ae5d4a07",
   "metadata": {},
   "source": [
    "##### 4.3 classification for all context length"
   ]
  },
  {
   "cell_type": "code",
   "execution_count": null,
   "id": "f28de2d6-9d6f-4a38-b1d1-c26902d101f2",
   "metadata": {},
   "outputs": [],
   "source": [
    "col_list = ['no_few_shot','1k','2k','4k','16k','curated_1k','curated_2k']\n",
    "def classification_all(col_list):\n",
    "    rerun_dict = {}\n",
    "    example_config = {'no_few_shot': 0,\n",
    "                      '1k': 18,\n",
    "                      '2k': 40,\n",
    "                      '4k': 100,\n",
    "                      '16k': 400,\n",
    "                      'curated_1k': 18,\n",
    "                      'curated_2k': 40\n",
    "                     }\n",
    "    for col_name in col_list:\n",
    "        with_example = col_name in [\"1k\", \"2k\", \"4k\", \"16k\"]\n",
    "        with_curated = col_name in [\"curated_1k\", \"curated_2k\"]\n",
    "        rerun_dict['col_name'] = []\n",
    "        classify_multi_tweet(start_index=0,\n",
    "                             df=df_test,\n",
    "                             storage_path='data/df_test.csv',\n",
    "                             col_name=col_name,\n",
    "                             example_num=example_config[col_name],\n",
    "                             with_example=with_example,\n",
    "                             with_curated=with_curated,\n",
    "                             rerun_list=rerun_dict['col_name']\n",
    "                             )"
   ]
  },
  {
   "cell_type": "markdown",
   "id": "0f60a48a-e1ed-4032-a862-3e451d647344",
   "metadata": {},
   "source": [
    "## 5. Visualization"
   ]
  },
  {
   "cell_type": "code",
   "execution_count": 15,
   "id": "766564e4-7f32-43d8-b33c-1fd3ed71f43e",
   "metadata": {
    "tags": []
   },
   "outputs": [],
   "source": [
    "import pandas as pd\n",
    "\n",
    "df_test = pd.read_csv(\"data/df_test.csv\")"
   ]
  },
  {
   "cell_type": "code",
   "execution_count": 17,
   "id": "f498559a-592b-4793-9fde-3abe7326497b",
   "metadata": {
    "tags": []
   },
   "outputs": [
    {
     "name": "stdout",
     "output_type": "stream",
     "text": [
      "\n",
      "Metrics for no_few_shot:\n",
      "Accuracy: 0.834\n",
      "Recall: 0.9976076555023924\n",
      "F1-score: 0.9094874591057798\n",
      "\n",
      "Metrics for 1k:\n",
      "Accuracy: 0.839\n",
      "Recall: 0.9940191387559809\n",
      "F1-score: 0.911684037301152\n",
      "\n",
      "Metrics for 2k:\n",
      "Accuracy: 0.841\n",
      "Recall: 0.9880382775119617\n",
      "F1-score: 0.9122032026504694\n",
      "\n",
      "Metrics for 4k:\n",
      "Accuracy: 0.833\n",
      "Recall: 0.9916267942583732\n",
      "F1-score: 0.9084931506849315\n",
      "\n",
      "Metrics for curated_1k:\n",
      "Accuracy: 0.868\n",
      "Recall: 0.9366028708133971\n",
      "F1-score: 0.9222614840989399\n",
      "\n",
      "Metrics for curated_2k:\n",
      "Accuracy: 0.856\n",
      "Recall: 0.9210526315789473\n",
      "F1-score: 0.9144893111638954\n"
     ]
    }
   ],
   "source": [
    "from sklearn.metrics import accuracy_score, recall_score, f1_score\n",
    "\n",
    "# Convert 'class' column to binary\n",
    "df_test_copy = df_test.copy()\n",
    "df_test_copy['class'] = df_test_copy['class'].map({1: 1, 2: 0})\n",
    "df_test_copy['1k'] = df_test_copy['1k'].map({1: 1, 2: 0})\n",
    "df_test_copy['2k'] = df_test_copy['2k'].map({1: 1, 2: 0})\n",
    "df_test_copy['4k'] = df_test_copy['4k'].map({1: 1, 2: 0})\n",
    "df_test_copy['curated_1k'] = df_test_copy['curated_1k'].map({1: 1, 2: 0})\n",
    "df_test_copy['curated_2k'] = df_test_copy['curated_2k'].map({1: 1, 2: 0})\n",
    "df_test_copy['no_few_shot'] = df_test_copy['no_few_shot'].map({1: 1, 2: 0})\n",
    "\n",
    "# Extracting relevant columns\n",
    "actual_class = df_test_copy['class']\n",
    "predicted_1k = df_test_copy['1k']\n",
    "predicted_2k = df_test_copy['2k']\n",
    "predicted_4k = df_test_copy['4k']\n",
    "predicted_curated_1k = df_test_copy['curated_1k']\n",
    "predicted_curated_2k = df_test_copy['curated_2k']\n",
    "predicted_no_few_shot = df_test_copy['no_few_shot']\n",
    "\n",
    "# Computing metrics for 1k\n",
    "accuracy_1k = accuracy_score(actual_class, predicted_1k)\n",
    "recall_1k = recall_score(actual_class, predicted_1k)\n",
    "f1_1k = f1_score(actual_class, predicted_1k)\n",
    "\n",
    "# Computing metrics for 2k\n",
    "accuracy_2k = accuracy_score(actual_class, predicted_2k)\n",
    "recall_2k = recall_score(actual_class, predicted_2k)\n",
    "f1_2k = f1_score(actual_class, predicted_2k)\n",
    "\n",
    "# Computing metrics for 4k\n",
    "accuracy_4k = accuracy_score(actual_class, predicted_4k)\n",
    "recall_4k = recall_score(actual_class, predicted_4k)\n",
    "f1_4k = f1_score(actual_class, predicted_4k)\n",
    "\n",
    "# Computing metrics for curated_1k\n",
    "accuracy_curated_1k = accuracy_score(actual_class, predicted_curated_1k)\n",
    "recall_curated_1k = recall_score(actual_class, predicted_curated_1k)\n",
    "f1_curated_1k = f1_score(actual_class, predicted_curated_1k)\n",
    "\n",
    "# Computing metrics for curated_2k\n",
    "accuracy_curated_2k = accuracy_score(actual_class, predicted_curated_2k)\n",
    "recall_curated_2k = recall_score(actual_class, predicted_curated_2k)\n",
    "f1_curated_2k = f1_score(actual_class, predicted_curated_2k)\n",
    "\n",
    "# Computing metrics for no_few_shot\n",
    "accuracy_no_few_shot = accuracy_score(actual_class, predicted_no_few_shot)\n",
    "recall_no_few_shot = recall_score(actual_class, predicted_no_few_shot)\n",
    "f1_no_few_shot = f1_score(actual_class, predicted_no_few_shot)\n",
    "\n",
    "# Displaying the results\n",
    "print(\"\\nMetrics for no_few_shot:\")\n",
    "print(\"Accuracy:\", accuracy_no_few_shot)\n",
    "print(\"Recall:\", recall_no_few_shot)\n",
    "print(\"F1-score:\", f1_no_few_shot)\n",
    "\n",
    "print(\"\\nMetrics for 1k:\")\n",
    "print(\"Accuracy:\", accuracy_1k)\n",
    "print(\"Recall:\", recall_1k)\n",
    "print(\"F1-score:\", f1_1k)\n",
    "\n",
    "print(\"\\nMetrics for 2k:\")\n",
    "print(\"Accuracy:\", accuracy_2k)\n",
    "print(\"Recall:\", recall_2k)\n",
    "print(\"F1-score:\", f1_2k)\n",
    "\n",
    "print(\"\\nMetrics for 4k:\")\n",
    "print(\"Accuracy:\", accuracy_4k)\n",
    "print(\"Recall:\", recall_4k)\n",
    "print(\"F1-score:\", f1_4k)\n",
    "\n",
    "print(\"\\nMetrics for curated_1k:\")\n",
    "print(\"Accuracy:\", accuracy_curated_1k)\n",
    "print(\"Recall:\", recall_curated_1k)\n",
    "print(\"F1-score:\", f1_curated_1k)\n",
    "\n",
    "print(\"\\nMetrics for curated_2k:\")\n",
    "print(\"Accuracy:\", accuracy_curated_2k)\n",
    "print(\"Recall:\", recall_curated_2k)\n",
    "print(\"F1-score:\", f1_curated_2k)"
   ]
  },
  {
   "cell_type": "markdown",
   "id": "e58b2007-779f-4010-8e42-23c5637f6595",
   "metadata": {
    "tags": []
   },
   "source": [
    "##### 5.1 Experiments Results"
   ]
  },
  {
   "cell_type": "code",
   "execution_count": 19,
   "id": "c42e607c-2920-4d1a-8c5e-18036aca6334",
   "metadata": {
    "tags": []
   },
   "outputs": [
    {
     "name": "stdout",
     "output_type": "stream",
     "text": [
      "╒══════════════════╤════════════╤══════════╤════════════╕\n",
      "│ Context Length   │   Accuracy │   Recall │   F1-score │\n",
      "╞══════════════════╪════════════╪══════════╪════════════╡\n",
      "│ no_few_shot      │      0.834 │ 0.997608 │   0.909487 │\n",
      "├──────────────────┼────────────┼──────────┼────────────┤\n",
      "│ 1k               │      0.839 │ 0.994019 │   0.911684 │\n",
      "├──────────────────┼────────────┼──────────┼────────────┤\n",
      "│ 2k               │      0.841 │ 0.988038 │   0.912203 │\n",
      "├──────────────────┼────────────┼──────────┼────────────┤\n",
      "│ 4k               │      0.833 │ 0.991627 │   0.908493 │\n",
      "├──────────────────┼────────────┼──────────┼────────────┤\n",
      "│ curated_1k       │      0.868 │ 0.936603 │   0.922261 │\n",
      "├──────────────────┼────────────┼──────────┼────────────┤\n",
      "│ curated_2k       │      0.856 │ 0.921053 │   0.914489 │\n",
      "╘══════════════════╧════════════╧══════════╧════════════╛\n"
     ]
    }
   ],
   "source": [
    "from tabulate import tabulate\n",
    "\n",
    "# ... (your code for calculating metrics) ...\n",
    "\n",
    "# Create a list of lists to hold the table data\n",
    "table_data = [\n",
    "    [\"Context Length\", \"Accuracy\", \"Recall\", \"F1-score\"],\n",
    "    [\"no_few_shot\", accuracy_no_few_shot, recall_no_few_shot, f1_no_few_shot],\n",
    "    [\"1k\", accuracy_1k, recall_1k, f1_1k],\n",
    "    [\"2k\", accuracy_2k, recall_2k, f1_2k],\n",
    "    [\"4k\", accuracy_4k, recall_4k, f1_4k],\n",
    "    [\"curated_1k\", accuracy_curated_1k, recall_curated_1k, f1_curated_1k],\n",
    "    [\"curated_2k\", accuracy_curated_2k, recall_curated_2k, f1_curated_2k]\n",
    "]\n",
    "\n",
    "# Print the formatted table\n",
    "print(tabulate(table_data, headers=\"firstrow\", tablefmt=\"fancy_grid\"))"
   ]
  },
  {
   "cell_type": "markdown",
   "id": "c851f27c-55f4-4ed4-8fef-30af42557691",
   "metadata": {
    "tags": []
   },
   "source": [
    "##### 5.2 bar plot for 'no_few_shot', '1k', '2k', '4k'"
   ]
  },
  {
   "cell_type": "code",
   "execution_count": 36,
   "id": "653b0c67-b047-46c5-b2d4-05cea5eed53e",
   "metadata": {
    "tags": []
   },
   "outputs": [
    {
     "data": {
      "image/png": "[encoded data removed]",
      "text/plain": [
       "<Figure size 640x480 with 1 Axes>"
      ]
     },
     "metadata": {},
     "output_type": "display_data"
    }
   ],
   "source": [
    "import matplotlib.pyplot as plt\n",
    "import numpy as np\n",
    "\n",
    "# Data for context length less than 4k\n",
    "selected_labels = ['no_few_shot', '1k', '2k', '4k']\n",
    "selected_accuracy = [0.834, 0.839, 0.841, 0.833]\n",
    "selected_recall = [0.997608, 0.994019, 0.988038, 0.991627]\n",
    "selected_f1_score = [0.909487, 0.911684, 0.912203, 0.908493]\n",
    "\n",
    "# Bar width\n",
    "bar_width = 0.3\n",
    "\n",
    "# Set up the bar positions\n",
    "r1 = np.arange(len(selected_labels))\n",
    "r2 = [x + bar_width for x in r1]\n",
    "r3 = [x + bar_width for x in r2]\n",
    "\n",
    "# Create bar plots\n",
    "plt.bar(r1, selected_accuracy, width=bar_width, label='Accuracy')\n",
    "plt.bar(r2, selected_recall, width=bar_width, label='Recall')\n",
    "plt.bar(r3, selected_f1_score, width=bar_width, label='F1-score')\n",
    "\n",
    "# Add labels on each bar\n",
    "for i, value in enumerate(selected_accuracy):\n",
    "    plt.text(i, value + 0.01, f'{value:.3f}', ha='center', va='bottom')\n",
    "for i, value in enumerate(selected_recall):\n",
    "    plt.text(i + bar_width, value + 0.01, f'{value:.3f}', ha='center', va='bottom')\n",
    "for i, value in enumerate(selected_f1_score):\n",
    "    plt.text(i + 2 * bar_width, value + 0.01, f'{value:.3f}', ha='center', va='bottom')\n",
    "\n",
    "# Add labels, title, and legend with adjustments\n",
    "plt.xlabel('Context Length')\n",
    "plt.xticks([r + bar_width for r in range(len(selected_labels))], selected_labels)\n",
    "plt.ylabel('Metrics')\n",
    "plt.title('Performance Metrics for less than 4k')\n",
    "plt.legend(loc='upper left', bbox_to_anchor=(1,1))\n",
    "\n",
    "# Show the plot\n",
    "plt.show()"
   ]
  },
  {
   "cell_type": "markdown",
   "id": "aff2007d-6f3b-40c3-970b-e14ea1ad53e3",
   "metadata": {
    "tags": []
   },
   "source": [
    "##### 5.3 bar plot for 1k and 2k with and without curated examples"
   ]
  },
  {
   "cell_type": "code",
   "execution_count": 34,
   "id": "654faec6-4d7d-4ab5-8dad-1c649cbbf1f7",
   "metadata": {
    "tags": []
   },
   "outputs": [
    {
     "data": {
      "image/png": "[encoded data removed]",
      "text/plain": [
       "<Figure size 640x480 with 1 Axes>"
      ]
     },
     "metadata": {},
     "output_type": "display_data"
    }
   ],
   "source": [
    "# Data for 1k and 2k with and without curated example\n",
    "selected_labels = ['1k', '2k', 'curated_1k', 'curated_2k']\n",
    "selected_accuracy = [0.839, 0.841, 0.868, 0.856]\n",
    "selected_recall = [0.994019, 0.988038, 0.936603, 0.921053]\n",
    "selected_f1_score = [0.911684, 0.912203, 0.922261, 0.914489]\n",
    "\n",
    "# Bar width\n",
    "bar_width = 0.3\n",
    "\n",
    "# Set up the bar positions\n",
    "r1 = np.arange(len(selected_labels))\n",
    "r2 = [x + bar_width for x in r1]\n",
    "r3 = [x + bar_width for x in r2]\n",
    "\n",
    "# Create bar plots\n",
    "plt.bar(r1, selected_accuracy, width=bar_width, label='Accuracy')\n",
    "plt.bar(r2, selected_recall, width=bar_width, label='Recall')\n",
    "plt.bar(r3, selected_f1_score, width=bar_width, label='F1-score')\n",
    "\n",
    "# Add labels on each bar\n",
    "for i, value in enumerate(selected_accuracy):\n",
    "    plt.text(i, value + 0.01, f'{value:.3f}', ha='center', va='bottom')\n",
    "for i, value in enumerate(selected_recall):\n",
    "    plt.text(i + bar_width, value + 0.01, f'{value:.3f}', ha='center', va='bottom')\n",
    "for i, value in enumerate(selected_f1_score):\n",
    "    plt.text(i + 2 * bar_width, value + 0.01, f'{value:.3f}', ha='center', va='bottom')\n",
    "\n",
    "# Add labels, title, and legend with adjustments\n",
    "plt.xlabel('Context Length')\n",
    "plt.xticks([r + bar_width for r in range(len(selected_labels))], selected_labels)\n",
    "plt.ylabel('Metrics')\n",
    "plt.title('Performance Metrics for 1k and 2k with and without curated example')\n",
    "plt.legend(loc='upper left', bbox_to_anchor=(1,1))\n",
    "\n",
    "# Show the plot\n",
    "plt.show()"
   ]
  },
  {
   "cell_type": "markdown",
   "id": "f655f321-24dd-4e34-9531-47cb5b3d4025",
   "metadata": {
    "tags": []
   },
   "source": [
    "## rerun"
   ]
  },
  {
   "cell_type": "code",
   "execution_count": null,
   "id": "f4fcfd2d-1ba9-4521-8825-c20b044ba7fc",
   "metadata": {},
   "outputs": [],
   "source": [
    "rerun_list = []\n",
    "classify_multi_tweet(start_index=0,\n",
    "                     df=df_test,\n",
    "                     storage_path='data/df_test.csv',\n",
    "                     col_name='curated_2k',\n",
    "                     example_num=20,\n",
    "                     with_example=False,\n",
    "                     with_curated=True,\n",
    "                     rerun_list=rerun_list\n",
    "                     )"
   ]
  },
  {
   "cell_type": "code",
   "execution_count": null,
   "id": "037981fb-67e2-4894-a276-be8b2f35943b",
   "metadata": {},
   "outputs": [],
   "source": [
    "# df_test.loc[df_test.index[699], '16k'] = int(1)"
   ]
  },
  {
   "cell_type": "code",
   "execution_count": null,
   "id": "f031e697-75c4-4d67-9a59-6cbf0e6c0aef",
   "metadata": {
    "tags": []
   },
   "outputs": [],
   "source": [
    "idx=293\n",
    "col_name='curated_1k'\n",
    "tweet = df_test.loc[df_test.index[idx], 'tweet']\n",
    "example_prompt = generate_prompt_curated_example(f\"\"\"\n",
    "{tweet}\n",
    "\"\"\")\n",
    "response = generator(example_prompt)\n",
    "output = response[0][\"generated_text\"].split(\"class:\")[-1].strip()\n",
    "print(output)\n",
    "df_test.loc[df_test.index[idx], col_name] = int(output)\n",
    "print(df_test.loc[df_test.index[idx], col_name])"
   ]
  },
  {
   "cell_type": "code",
   "execution_count": null,
   "id": "3ad743cd-6842-45b7-90d5-90b90d3aef91",
   "metadata": {
    "tags": []
   },
   "outputs": [],
   "source": [
    "idx=293\n",
    "col_name='curated_1k'\n",
    "few_shot_example = build_examples(prompt='', df=df_train, num=360)\n",
    "tweet = df_test.loc[df_test.index[idx], 'tweet']\n",
    "example_prompt = generate_prompt(few_shot_example, f\"\"\"\n",
    "{tweet}\n",
    "\"\"\")\n",
    "response = generator(example_prompt)\n",
    "output = response[0][\"generated_text\"].split(\"class:\")[-1].strip()\n",
    "print(output)\n",
    "df_test.loc[df_test.index[idx], col_name] = int(output)\n",
    "print(df_test.loc[df_test.index[idx], col_name])"
   ]
  },
  {
   "cell_type": "code",
   "execution_count": null,
   "id": "9da15592-ce2c-4944-a9b7-854e6b825da9",
   "metadata": {
    "tags": []
   },
   "outputs": [],
   "source": [
    "def rerun_curated(rerun_list, df, storage_path, col_name):\n",
    "    for idx in rerun_list:\n",
    "        tweet = df.loc[df.index[idx], 'tweet']\n",
    "        example_prompt = generate_prompt_curated_example(f\"\"\"\n",
    "        {tweet}\n",
    "        \"\"\")\n",
    "        response = generator(example_prompt)\n",
    "        output = response[0][\"generated_text\"].split(\"class:\")[-1].strip()\n",
    "        try:\n",
    "            df.loc[df.index[idx], col_name] = int(output)\n",
    "            rerun_list = [x for x in rerun_list if x != idx]\n",
    "        except Exception as e:\n",
    "            print(f\"Error processing tweet {idx}: {e}\")\n",
    "\n",
    "    df.to_csv(storage_path, index=False)\n",
    "    \n",
    "rerun_curated(rerun_list=rerun_list, \n",
    "              df=df_test, \n",
    "              storage_path=\"data/df_test.csv\",\n",
    "              col_name='curated_2k'\n",
    "              )"
   ]
  },
  {
   "cell_type": "code",
   "execution_count": null,
   "id": "ac208cc8-1896-43db-862f-56806777c004",
   "metadata": {
    "tags": []
   },
   "outputs": [],
   "source": [
    "def rerun(rerun_list, df, storage_path, col_name, example_num):\n",
    "    few_shot_example = build_examples(prompt='', df=df_train, num=example_num)\n",
    "    for idx in rerun_list:\n",
    "        tweet = df.loc[df.index[idx], 'tweet']\n",
    "        example_prompt = generate_prompt(few_shot_example, f\"\"\"\n",
    "        {tweet}\n",
    "        \"\"\")\n",
    "        response = generator(example_prompt)\n",
    "        output = response[0][\"generated_text\"].split(\"class:\")[-1].strip()\n",
    "        try:\n",
    "            df.loc[df.index[idx], col_name] = int(output)\n",
    "            rerun_list = [x for x in rerun_list if x != idx]\n",
    "        except Exception as e:\n",
    "            print(f\"Error processing tweet {idx}: {e}\")\n",
    "\n",
    "    df.to_csv(storage_path, index=False)\n",
    "    \n",
    "rerun(rerun_list=rerun_list, \n",
    "      df=df_test, \n",
    "      storage_path=\"data/df_test.csv\",\n",
    "      col_name='16k',\n",
    "      example_num=360,)"
   ]
  },
  {
   "cell_type": "code",
   "execution_count": null,
   "id": "2ecfccb8-ae35-401f-bf7d-591cf2b3cf5a",
   "metadata": {
    "tags": []
   },
   "outputs": [],
   "source": [
    "df_test['tweet'][22389]"
   ]
  },
  {
   "cell_type": "markdown",
   "id": "e4efc57a-db99-4e97-90f3-ef3090b86ddf",
   "metadata": {},
   "source": []
  },
  {
   "cell_type": "code",
   "execution_count": null,
   "id": "95773386-6a77-40fd-b500-dbf5d67af810",
   "metadata": {
    "tags": []
   },
   "outputs": [],
   "source": []
  },
  {
   "cell_type": "code",
   "execution_count": null,
   "id": "8d8b22a4-d681-47ea-8a3f-2a6354cca36c",
   "metadata": {},
   "outputs": [],
   "source": []
  },
  {
   "cell_type": "code",
   "execution_count": null,
   "id": "0fa7cc99-a4a4-4517-b666-07dc7487385d",
   "metadata": {},
   "outputs": [],
   "source": []
  }
 ],
 "metadata": {
  "kernelspec": {
   "display_name": "Python 3 (ipykernel)",
   "language": "python",
   "name": "python3"
  },
  "language_info": {
   "codemirror_mode": {
    "name": "ipython",
    "version": 3
   },
   "file_extension": ".py",
   "mimetype": "text/x-python",
   "name": "python",
   "nbconvert_exporter": "python",
   "pygments_lexer": "ipython3",
   "version": "3.11.5"
  }
 },
 "nbformat": 4,
 "nbformat_minor": 5
}
